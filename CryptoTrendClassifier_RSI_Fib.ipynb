{
 "cells": [
  {
   "cell_type": "markdown",
   "id": "ccfd4753",
   "metadata": {},
   "source": [
    "# 📈 Crypto Trend Classifier with RSI & Fibonacci Zones"
   ]
  },
  {
   "cell_type": "code",
   "execution_count": 1,
   "id": "d3b7b9ed",
   "metadata": {},
   "outputs": [],
   "source": [
    "import pandas as pd\n",
    "import numpy as np\n",
    "import matplotlib.pyplot as plt\n",
    "from sklearn.model_selection import train_test_split\n",
    "from sklearn.linear_model import LogisticRegression\n",
    "from sklearn.metrics import classification_report, accuracy_score\n",
    "\n",
    "# Load dataset\n",
    "df = pd.read_csv(r'R:\\GPT\\AI-Pivot\\Jupiter\\btc.csv')\n",
    "\n",
    "# Clean columns and rename if needed\n",
    "df.columns = df.columns.str.strip()\n",
    "df.rename(columns={'Timestamp': 'Date'}, inplace=True)\n",
    "df['Date'] = pd.to_datetime(df['Date'])\n",
    "df = df.sort_values('Date')"
   ]
  },
  {
   "cell_type": "code",
   "execution_count": 2,
   "id": "c4f01a02",
   "metadata": {},
   "outputs": [],
   "source": [
    "# Feature: daily return\n",
    "df['Return'] = df['Close'].pct_change()\n",
    "\n",
    "# Feature: RSI (Relative Strength Index)\n",
    "def compute_rsi(series, period=14):\n",
    "    delta = series.diff()\n",
    "    gain = np.where(delta > 0, delta, 0)\n",
    "    loss = np.where(delta < 0, -delta, 0)\n",
    "    avg_gain = pd.Series(gain).rolling(window=period).mean()\n",
    "    avg_loss = pd.Series(loss).rolling(window=period).mean()\n",
    "    rs = avg_gain / avg_loss\n",
    "    rsi = 100 - (100 / (1 + rs))\n",
    "    return rsi\n",
    "\n",
    "df['RSI'] = compute_rsi(df['Close'])"
   ]
  },
  {
   "cell_type": "code",
   "execution_count": 3,
   "id": "60dfd4a9",
   "metadata": {},
   "outputs": [],
   "source": [
    "# Feature: Fibonacci Retracement Zones\n",
    "window = 20\n",
    "df['Fib_Max'] = df['Close'].rolling(window=window).max()\n",
    "df['Fib_Min'] = df['Close'].rolling(window=window).min()\n",
    "df['Fib_38'] = df['Fib_Max'] - 0.382 * (df['Fib_Max'] - df['Fib_Min'])\n",
    "df['Fib_50'] = df['Fib_Max'] - 0.500 * (df['Fib_Max'] - df['Fib_Min'])\n",
    "df['Fib_62'] = df['Fib_Max'] - 0.618 * (df['Fib_Max'] - df['Fib_Min'])\n",
    "\n",
    "# Feature: is price in golden retracement zone?\n",
    "df['In_Fib_Zone'] = ((df['Close'] >= df['Fib_62']) & (df['Close'] <= df['Fib_38'])).astype(int)"
   ]
  },
  {
   "cell_type": "code",
   "execution_count": 4,
   "id": "6b27e313",
   "metadata": {},
   "outputs": [
    {
     "name": "stdout",
     "output_type": "stream",
     "text": [
      "Accuracy: 0.6055104997421356\n",
      "Classification Report:\n",
      "               precision    recall  f1-score   support\n",
      "\n",
      "           0       0.61      1.00      0.75    799553\n",
      "           1       0.00      0.00      0.00    520908\n",
      "\n",
      "    accuracy                           0.61   1320461\n",
      "   macro avg       0.30      0.50      0.38   1320461\n",
      "weighted avg       0.37      0.61      0.46   1320461\n",
      "\n"
     ]
    },
    {
     "name": "stderr",
     "output_type": "stream",
     "text": [
      "C:\\Users\\papad\\AppData\\Roaming\\Python\\Python313\\site-packages\\sklearn\\metrics\\_classification.py:1706: UndefinedMetricWarning: Precision is ill-defined and being set to 0.0 in labels with no predicted samples. Use `zero_division` parameter to control this behavior.\n",
      "  _warn_prf(average, modifier, f\"{metric.capitalize()} is\", result.shape[0])\n",
      "C:\\Users\\papad\\AppData\\Roaming\\Python\\Python313\\site-packages\\sklearn\\metrics\\_classification.py:1706: UndefinedMetricWarning: Precision is ill-defined and being set to 0.0 in labels with no predicted samples. Use `zero_division` parameter to control this behavior.\n",
      "  _warn_prf(average, modifier, f\"{metric.capitalize()} is\", result.shape[0])\n",
      "C:\\Users\\papad\\AppData\\Roaming\\Python\\Python313\\site-packages\\sklearn\\metrics\\_classification.py:1706: UndefinedMetricWarning: Precision is ill-defined and being set to 0.0 in labels with no predicted samples. Use `zero_division` parameter to control this behavior.\n",
      "  _warn_prf(average, modifier, f\"{metric.capitalize()} is\", result.shape[0])\n"
     ]
    }
   ],
   "source": [
    "# Target: will price go up tomorrow?\n",
    "df['Target'] = (df['Close'].shift(-1) > df['Close']).astype(int)\n",
    "df = df.dropna()  # Drop NaNs from rolling calculations and shift\n",
    "\n",
    "# Features and labels\n",
    "X = df[['Return', 'RSI', 'In_Fib_Zone']]\n",
    "y = df['Target']\n",
    "\n",
    "# Train/test split\n",
    "X_train, X_test, y_train, y_test = train_test_split(X, y, test_size=0.2, random_state=42)\n",
    "\n",
    "# Train logistic regression model\n",
    "model = LogisticRegression()\n",
    "model.fit(X_train, y_train)\n",
    "\n",
    "# Evaluate\n",
    "y_pred = model.predict(X_test)\n",
    "print(\"Accuracy:\", accuracy_score(y_test, y_pred))\n",
    "print(\"Classification Report:\\n\", classification_report(y_test, y_pred))"
   ]
  },
  {
   "cell_type": "markdown",
   "id": "41e09eae",
   "metadata": {},
   "source": [
    "## ✅ Summary\n",
    "This notebook:\n",
    "- Calculates RSI and Fibonacci retracement zones\n",
    "- Uses those as features along with returns\n",
    "- Predicts whether price will go up the next day\n",
    "\n",
    "You can now visualize signals or switch to more advanced models (e.g., XGBoost, LSTM)"
   ]
  },
  {
   "cell_type": "code",
   "execution_count": null,
   "id": "8e78e3d5-92fd-4fed-bfce-27944b5de998",
   "metadata": {},
   "outputs": [],
   "source": []
  }
 ],
 "metadata": {
  "kernelspec": {
   "display_name": "Python 3 (ipykernel)",
   "language": "python",
   "name": "python3"
  },
  "language_info": {
   "codemirror_mode": {
    "name": "ipython",
    "version": 3
   },
   "file_extension": ".py",
   "mimetype": "text/x-python",
   "name": "python",
   "nbconvert_exporter": "python",
   "pygments_lexer": "ipython3",
   "version": "3.13.3"
  }
 },
 "nbformat": 4,
 "nbformat_minor": 5
}
